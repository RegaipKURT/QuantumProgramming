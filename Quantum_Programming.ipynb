{
  "nbformat": 4,
  "nbformat_minor": 0,
  "metadata": {
    "colab": {
      "name": "Quantum_Programming.ipynb",
      "provenance": [],
      "collapsed_sections": [],
      "include_colab_link": true
    },
    "kernelspec": {
      "name": "python3",
      "display_name": "Python 3"
    },
    "accelerator": "GPU"
  },
  "cells": [
    {
      "cell_type": "markdown",
      "metadata": {
        "id": "view-in-github",
        "colab_type": "text"
      },
      "source": [
        "<a href=\"https://colab.research.google.com/github/RegaipKURT/QuantumProgramming/blob/master/Quantum_Programming.ipynb\" target=\"_parent\"><img src=\"https://colab.research.google.com/assets/colab-badge.svg\" alt=\"Open In Colab\"/></a>"
      ]
    },
    {
      "cell_type": "code",
      "metadata": {
        "id": "Fn03ATSDkGzQ",
        "colab_type": "code",
        "colab": {}
      },
      "source": [
        "!pip3 install qiskit "
      ],
      "execution_count": 0,
      "outputs": []
    },
    {
      "cell_type": "code",
      "metadata": {
        "id": "cM4MXqeCkUlw",
        "colab_type": "code",
        "colab": {}
      },
      "source": [
        "import qiskit as q\n",
        "%matplotlib inline"
      ],
      "execution_count": 0,
      "outputs": []
    },
    {
      "cell_type": "code",
      "metadata": {
        "id": "5KGvlaXnnUSi",
        "colab_type": "code",
        "outputId": "07b779ad-dc47-44d3-c219-915fcabb82af",
        "colab": {
          "base_uri": "https://localhost:8080/",
          "height": 185
        }
      },
      "source": [
        "circuit = q.QuantumCircuit(2,2) # 2 qubits and 2 classical bits\n",
        "\n",
        "#aşağıdaki kapıları ve kullanım şeklimizi anlamak için aşağıdaki linke bakılabilir.:\n",
        "# https://quantum-computing.ibm.com/support/guides/gate-overview?section=5d00d964853ef8003c6d6820#\n",
        "# currently 0,0\n",
        "circuit.x(0) # pauli x kapısı\n",
        "# 1,0 \n",
        "circuit.cx(0,1) # controlled x gate\n",
        "\n",
        "#1,1\n",
        "circuit.measure([0,1],[0,1])\n",
        "circuit.draw() # basit çizim\n",
        "circuit.draw(output=\"mpl\") # matplotlib üzerine çizim"
      ],
      "execution_count": 0,
      "outputs": [
        {
          "output_type": "execute_result",
          "data": {
            "image/png": "[encoded data removed]",
            "text/plain": [
              "<Figure size 397.32x204.68 with 1 Axes>"
            ]
          },
          "metadata": {
            "tags": []
          },
          "execution_count": 14
        }
      ]
    },
    {
      "cell_type": "code",
      "metadata": {
        "id": "6xK5y8oxVtGj",
        "colab_type": "code",
        "outputId": "a48b8a34-3936-49ec-9b93-88758676b82d",
        "colab": {
          "base_uri": "https://localhost:8080/",
          "height": 88
        }
      },
      "source": [
        "from qiskit import IBMQ\n",
        "IBMQ.save_account(open(\"token.txt\", \"r\").read()) #kendi api key'ininizi kopyalayın!\n",
        "IBMQ.load_account()"
      ],
      "execution_count": 0,
      "outputs": [
        {
          "output_type": "stream",
          "text": [
            "/usr/local/lib/python3.6/dist-packages/qiskit/providers/ibmq/credentials/configrc.py:130: UserWarning: Credentials already present. Set overwrite=True to overwrite.\n",
            "  warnings.warn('Credentials already present. '\n"
          ],
          "name": "stderr"
        },
        {
          "output_type": "execute_result",
          "data": {
            "text/plain": [
              "<AccountProvider for IBMQ(hub='ibm-q', group='open', project='main')>"
            ]
          },
          "metadata": {
            "tags": []
          },
          "execution_count": 19
        }
      ]
    },
    {
      "cell_type": "code",
      "metadata": {
        "id": "ootJ75ILXsBD",
        "colab_type": "code",
        "outputId": "aa4ca7e0-d739-45b1-b4e1-ba4689b2c407",
        "colab": {
          "base_uri": "https://localhost:8080/",
          "height": 153
        }
      },
      "source": [
        "# provider ları yani sağlayıcıları alalım ve hangi bilgisayarlar üzerinde işlem yapabiliriz bakalım.\n",
        "\n",
        "provider = IBMQ.get_provider(\"ibm-q\")\n",
        "\n",
        "for backend in provider.backends():\n",
        "    try:\n",
        "        qubit_count = len(backend.properties().qubits)\n",
        "    except:\n",
        "        qubit_count = \"simulated\"\n",
        "\n",
        "    print(f\"{backend.name()} has {backend.status().pending_jobs} qued and {qubit_count} qubits.\")"
      ],
      "execution_count": 0,
      "outputs": [
        {
          "output_type": "stream",
          "text": [
            "ibmq_qasm_simulator has 0 qued and simulated qubits.\n",
            "ibmqx2 has 0 qued and 5 qubits.\n",
            "ibmq_16_melbourne has 15 qued and 14 qubits.\n",
            "ibmq_vigo has 9 qued and 5 qubits.\n",
            "ibmq_ourense has 12 qued and 5 qubits.\n",
            "ibmq_london has 1 qued and 5 qubits.\n",
            "ibmq_burlington has 0 qued and 5 qubits.\n",
            "ibmq_essex has 7 qued and 5 qubits.\n"
          ],
          "name": "stdout"
        }
      ]
    },
    {
      "cell_type": "code",
      "metadata": {
        "id": "WmVGtYgmaj_p",
        "colab_type": "code",
        "outputId": "37ef7cab-3400-4c3f-e4e6-cb64563454c9",
        "colab": {
          "base_uri": "https://localhost:8080/",
          "height": 34
        }
      },
      "source": [
        "from qiskit.tools.monitor import job_monitor\n",
        "\n",
        "backend = provider.get_backend(\"ibmq_burlington\") # yukarıdan br bilgisayar seçtik işlem için\n",
        "job = q.execute(circuit, backend=backend, shots=500) #işlemimizi belirledik\n",
        "job_monitor(job)"
      ],
      "execution_count": 0,
      "outputs": [
        {
          "output_type": "stream",
          "text": [
            "Job Status: job has successfully run\n"
          ],
          "name": "stdout"
        }
      ]
    },
    {
      "cell_type": "code",
      "metadata": {
        "id": "7p4wl59Gbl6Z",
        "colab_type": "code",
        "outputId": "809558e5-7579-4495-9c5c-49e1cd5ac1cf",
        "colab": {
          "base_uri": "https://localhost:8080/",
          "height": 331
        }
      },
      "source": [
        "from qiskit.visualization import plot_histogram # sonucu görselleştirnek için\n",
        "from matplotlib import style\n",
        "\n",
        "style.use(\"dark_background\") # plot arkaplanını koyu yaptık\n",
        "result = job.result()\n",
        "counts = result.get_counts(circuit)\n",
        "\n",
        "plot_histogram([counts]) # grafikte 1,1 dışındaki beklenmeyen değerleri de göreceğiz\n",
        "# buna quantum noise deniyor."
      ],
      "execution_count": 0,
      "outputs": [
        {
          "output_type": "execute_result",
          "data": {
            "image/png": "[encoded data removed]",
            "text/plain": [
              "<Figure size 504x360 with 1 Axes>"
            ]
          },
          "metadata": {
            "tags": []
          },
          "execution_count": 43
        }
      ]
    },
    {
      "cell_type": "markdown",
      "metadata": {
        "id": "Xen1Havnga7v",
        "colab_type": "text"
      },
      "source": [
        "## **Şimdi başka bir quantum kapısı deneyelim**"
      ]
    },
    {
      "cell_type": "code",
      "metadata": {
        "id": "mU8LpFJAgZ6H",
        "colab_type": "code",
        "outputId": "52afc869-8f23-4fe0-8216-c1ba630e0630",
        "colab": {
          "base_uri": "https://localhost:8080/",
          "height": 202
        }
      },
      "source": [
        "circuit = q.QuantumCircuit(2,2) # 2 qubits and 2 classical bits\n",
        "\n",
        "# currently 0,0\n",
        "circuit.h(0) # hadamard kapısı ==> süperpozisyon durumuna getirir.\n",
        "# 1,0 \n",
        "circuit.cx(0,1) # controlled x gate\n",
        "\n",
        "#1,1\n",
        "circuit.measure([0,1],[0,1])\n",
        "\n",
        "backend = provider.get_backend(\"ibmq_burlington\") # yukarıdan br bilgisayar seçtik işlem için\n",
        "job = q.execute(circuit, backend=backend, shots=500) #işlemimizi belirledik\n",
        "job_monitor(job)\n",
        "circuit.draw(output=\"mpl\") # matplotlib üzerine çizim"
      ],
      "execution_count": 0,
      "outputs": [
        {
          "output_type": "stream",
          "text": [
            "Job Status: job has successfully run\n"
          ],
          "name": "stdout"
        },
        {
          "output_type": "execute_result",
          "data": {
            "image/png": "[encoded data removed]",
            "text/plain": [
              "<Figure size 397.32x204.68 with 1 Axes>"
            ]
          },
          "metadata": {
            "tags": []
          },
          "execution_count": 50
        }
      ]
    },
    {
      "cell_type": "code",
      "metadata": {
        "id": "BnM-X6SihDYG",
        "colab_type": "code",
        "outputId": "653f3254-254c-4bd8-924b-cfae6bde2182",
        "colab": {
          "base_uri": "https://localhost:8080/",
          "height": 331
        }
      },
      "source": [
        "result = job.result()\n",
        "counts = result.get_counts(circuit)\n",
        "\n",
        "plot_histogram([counts]) "
      ],
      "execution_count": 0,
      "outputs": [
        {
          "output_type": "execute_result",
          "data": {
            "image/png": "[encoded data removed]",
            "text/plain": [
              "<Figure size 504x360 with 1 Axes>"
            ]
          },
          "metadata": {
            "tags": []
          },
          "execution_count": 51
        }
      ]
    },
    {
      "cell_type": "markdown",
      "metadata": {
        "id": "AR-7EbH9isS0",
        "colab_type": "text"
      },
      "source": [
        "# **Yerel simulatör içinde kullanma**"
      ]
    },
    {
      "cell_type": "code",
      "metadata": {
        "id": "L8jJd6uHirn8",
        "colab_type": "code",
        "outputId": "84466678-4aa2-4aca-fd45-8ad3d8dbc5b7",
        "colab": {
          "base_uri": "https://localhost:8080/",
          "height": 68
        }
      },
      "source": [
        "from qiskit import Aer # simulator  framework for qiskit\n",
        "\n",
        "sim_backend = Aer.get_backend(\"qasm_simulator\")\n",
        "\n",
        "\n",
        "#içindeki diğer backend makinelere bakalım\n",
        "for backend in Aer.backends():\n",
        "    print(backend)\n",
        "\n",
        "# qasm_simulator\n",
        "# statevector_simulator\n",
        "# unitary_simulator"
      ],
      "execution_count": 0,
      "outputs": [
        {
          "output_type": "stream",
          "text": [
            "qasm_simulator\n",
            "statevector_simulator\n",
            "unitary_simulator\n"
          ],
          "name": "stdout"
        }
      ]
    }
  ]
}