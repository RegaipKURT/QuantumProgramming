{
  "nbformat": 4,
  "nbformat_minor": 0,
  "metadata": {
    "colab": {
      "name": "Q-SVM.ipynb",
      "provenance": [],
      "collapsed_sections": [],
      "include_colab_link": true
    },
    "kernelspec": {
      "name": "python3",
      "display_name": "Python 3"
    },
    "accelerator": "GPU"
  },
  "cells": [
    {
      "cell_type": "markdown",
      "metadata": {
        "id": "view-in-github",
        "colab_type": "text"
      },
      "source": [
        "<a href=\"https://colab.research.google.com/github/RegaipKURT/QuantumProgramming/blob/master/Q_SVM.ipynb\" target=\"_parent\"><img src=\"https://colab.research.google.com/assets/colab-badge.svg\" alt=\"Open In Colab\"/></a>"
      ]
    },
    {
      "cell_type": "markdown",
      "metadata": {
        "id": "i7NWagHH_LeS",
        "colab_type": "text"
      },
      "source": [
        "# Q-SVM (Quantum Support Vector Machine Algoritması)\n",
        "\n",
        "Quantum bilgisayarları ve quantum programlama çok yeni bir alan olmasıyla beraber, hem merak uyandırmakta hem de neler yapılabileceğinin anlaşılması için deneysel çalışmalara sahne olmaktadır. Bu deneysel çalışma alanlarından birisi de makine öğrenmesi ve derin öğrenme algoritmalarının, hatta yapay zekanın kuantum bilgisayarlar üzerinde denenmesi ile ilgili yapılan çalışmalardır. Ancak derin öğrenme yöntemlerinin ve yapay zeka ile ilgili çalışmaların bile henüz başındayken bunların kuantum bilgisayarlarda uygulanması, şimdilik pratik kullanımlardan ziyade akademik ve teorik çalışmalar olarak devam etmektedir. \n",
        "\n",
        "\n",
        "Araştırdığım kadarıyla QSVM algoritmasını uygulamak 2 farklı yöntemle gerçekleştirelebilir. Bu yöntemlerden 1.'si sadece kernel fonksiyonunu quantum bilgisayarında çalıştırmak verileri ise klasik bir bilgisayardan ve bilindik özellik uzayından konvensiyonel yöntemlerle indirgeyerek almak. İkincisi ise hem özellik uzayında verilerin indirgenmesini ve verilerin etiketlerini hem de kernel fonksiyonunu quantum bilgisayarları üzerinde yapmak.\n",
        "\n",
        "Bu iki yöntem arasındak farkı anlamak için ilk önce SVM'in klasik halinin verileri nasıl sınıflandırdığını bilmemiz gerekiyor. Bunu bildiğimizi varsayarak özellik uzayında verilerin boyut artırılarak  nasıl birbirinden ayrıldığını gösteren bir görselle hatırlayalım: \n",
        "\n",
        "![alt text](https://www.researchgate.net/profile/Katarzyna_Matek/publication/235892711/figure/fig1/AS:299920994127876@1448518145475/Illustration-of-the-operation-of-the-SVM-algorithm-The-input-data-on-the-left-side.png)\n",
        "\n",
        "Yukarıda bahsettiğimiz iki yöntemin farkı birincisinde özellik uzayımızın da kuantum devrelerinde hesaplanmasıdır. Kuantum özellik uzayı da aşağıdaki şekilde  gösterilebilir.\n",
        "\n",
        "\n",
        "![alt text](https://raw.githubusercontent.com/RegaipKURT/QuantumProgramming/master/qc.png)\n",
        "\n",
        "\n",
        "Her iki yöntemde de ortak nokta kernel fonksiyonunun geleneksel yolla değil quantum hesaplamaları ile elde edilmesidir. Fakat başarı oranını artırmak için verilerin etiketlerinin süperpozisyon durumunda sağlanabilmeleri gerekiyor. Bunu yapabilmek için ise verilerin de bir quantum devresinden okunması gerekmekle beraber, biz burada bu veri sağlama yöntemini uygulayacak imkana şu an sahip değiliz. Ama deneysel çalışmalarda elde edilen sonuçlar bu yöntemle %100 tahmin başarısı sağlanabileceğini gösteriyor. (Tabi %100 başarı elde edilebilecek düzenli bir veri kullanılarak bu yapılmış.) \n",
        "\n",
        "Her ne kadar verileri quantum bilgisayarından sağlamak imkanımız olmasa bile, qiskit kütüphanesi içine kuantum özellik uzayını kullanarak verilerin birbirinden ayrılmasını sağlayacak bir fonksiyon yerleştirilmiş. Biz de feature_map isimli bu kütüphaneyi aşağıda kullanacağız. \n",
        "\n",
        "Burada bahsettiklerimle ilgili çalışmaya ait makalenin linkinden akademik çalışmayı inceleyebilir ve makalenin alıntılarından başka kaynaklara da ulaşabilirsiniz. Konuyla ilgili başka çalışmalar da yapılmış. Aşağıda linkini verdiğim makaleye qiskit.aqua içinden de referans verilmiş.\n",
        "\n",
        "---\n",
        "\n",
        "Quantum-SVM algoritmasının makalesi:  https://arxiv.org/pdf/1804.11326.pdf"
      ]
    },
    {
      "cell_type": "markdown",
      "metadata": {
        "id": "VN7vGdJyfLuE",
        "colab_type": "text"
      },
      "source": [
        "# Niye Q-SVM'e gerek duymuşlar? Neden böyle çalışmalar yapılıyor?\n",
        "\n",
        "Klasik makine öğrenmesi algoritmaları dururken neden kuantum bilgisayarları ve algoritmaları kullanılıyor peki? Bu sorunun iki cevabı var: 1.'si kuantum dolaşıklığı gibi kauntum fiziği özelliklerinden faydalanmak, 2.'si ise kuantum bilgisayarlarının hesaplama gücünü kullanmak. \n",
        " \n",
        "SVM algoritmasında verilerin birbirine yakın noktalarından destek noktaları oluşturarak verileri sınıflandırma yoluna gidiliyor. Yukarıda özellik uzaylarının fotoğrafları bulunuyor ve anlaşılabilir  ki bazen iki veya üç boyut kullanarak verileri sınıflandırmak mümkün olamayabilir. Bunun için de n-boyutlu bir uzaya doğru boyut artıma işlemi yapmak ve verilerimizi bu uzayda temsil eden noktalarla birbirinden ayırmak gerekebiliyor. Fakat çok boyutlu uzaylarda çalıştıkça klasik bilgisayarlarda hesaplama gücümüz de yetersiz gelmeye başlıyor. "
      ]
    },
    {
      "cell_type": "markdown",
      "metadata": {
        "id": "6YtorZLuAmtO",
        "colab_type": "text"
      },
      "source": [
        "#### Eğer qiskit kütüphanesi yüklü değilse aşağıdaki komut ile yüklememiz gerekmektedir."
      ]
    },
    {
      "cell_type": "code",
      "metadata": {
        "id": "tH9PRWrNfp9f",
        "colab_type": "code",
        "colab": {}
      },
      "source": [
        "!pip install qiskit"
      ],
      "execution_count": 0,
      "outputs": []
    },
    {
      "cell_type": "markdown",
      "metadata": {
        "id": "dGfN0UqeAhJl",
        "colab_type": "text"
      },
      "source": [
        "## Kütüphanelerin import edilmesi\n",
        "\n",
        "İlk olarak qiskit.aqua içerisinden qsvm algoritmasını kullanacağız. Fakat başka kütüphanelerde bunun alternatifi olan qsvm algoritmaları var. Kullanacağımız veriseti ise makine öğrenmesi çalışmalarında en sık kullanılan verisetlerinden biri olan iris veriseti."
      ]
    },
    {
      "cell_type": "code",
      "metadata": {
        "id": "zDOKtI9DftKG",
        "colab_type": "code",
        "colab": {}
      },
      "source": [
        "import numpy as np\n",
        "from sklearn.datasets import load_iris\n",
        "from sklearn.model_selection import train_test_split\n",
        "import qiskit\n",
        "from qiskit import BasicAer, Aer\n",
        "from qiskit.aqua import QuantumInstance\n",
        "from qiskit.aqua.algorithms import QSVM\n",
        "from qiskit.aqua.components.multiclass_extensions import one_against_rest, all_pairs\n",
        "from qiskit.aqua.components.feature_maps import SecondOrderExpansion\n",
        "from qiskit.aqua.input import ClassificationInput\n",
        "from qiskit.aqua import run_algorithm\n",
        "\n",
        "backend = Aer.get_backend('qasm_simulator')\n",
        "iris = load_iris()"
      ],
      "execution_count": 0,
      "outputs": []
    },
    {
      "cell_type": "markdown",
      "metadata": {
        "id": "_NYvvufIc59I",
        "colab_type": "text"
      },
      "source": [
        "Algoritmayı çalıştırmak çok uzun sürdüğü için ibm'in bilgisayarları üzerinde çalıştırıp uzun süre beklememek ve orayı da meşgul etmemek için qasm_simulator üzerinde çalıştırıyorum. "
      ]
    },
    {
      "cell_type": "markdown",
      "metadata": {
        "id": "RMNTUmhMA_9V",
        "colab_type": "text"
      },
      "source": [
        "## Verisetinin Yüklenmesi\n",
        "\n",
        "Kullancağımız veriseti olan iris hedef değişken olarak 3 ayrı sınıf ve 4 özellik kolonundan oluşuyor. "
      ]
    },
    {
      "cell_type": "code",
      "metadata": {
        "id": "nzR47viyfyfG",
        "colab_type": "code",
        "outputId": "5e8ca95d-caed-4fde-8c3d-ee54a7d96cf6",
        "colab": {
          "base_uri": "https://localhost:8080/",
          "height": 51
        }
      },
      "source": [
        "X, Y = iris.data, iris.target\n",
        "print(X.shape)\n",
        "print(len(set(Y)))\n",
        "train_x, test_x, train_y, test_y = train_test_split(X, Y, test_size=0.2)\n",
        "num_features = 4\n",
        "training_size = 120\n",
        "test_size = 30\n",
        "feature_map = SecondOrderExpansion(feature_dimension=num_features, depth=3)\n",
        "# feature_map ile yukarıda bahsettiğimiz kuantum özellik uzayını kullanacağımız fonksiyonu tanımladık."
      ],
      "execution_count": 11,
      "outputs": [
        {
          "output_type": "stream",
          "text": [
            "(150, 4)\n",
            "3\n"
          ],
          "name": "stdout"
        }
      ]
    },
    {
      "cell_type": "markdown",
      "metadata": {
        "id": "n6bIN97uqpHs",
        "colab_type": "text"
      },
      "source": [
        "Yukarıda feature map tanımladık ama aşağıda zaten parametre olarak vereceğimizden dolayı burada tanımlamamıza gerek yoktu. Örnek olması açısından şimdilik her ikisi de kalsın."
      ]
    },
    {
      "cell_type": "code",
      "metadata": {
        "id": "z1C_Np5hf4Fp",
        "colab_type": "code",
        "colab": {}
      },
      "source": [
        "params = {\n",
        "            'problem': {'name': 'classification', 'random_seed': 794},\n",
        "            'algorithm': {\n",
        "                'name': 'QSVM',\n",
        "            },\n",
        "            'backend': {'shots': 1},\n",
        "            'multiclass_extension': {'name': 'OneAgainstRest'},\n",
        "            'feature_map': {'name': 'SecondOrderExpansion', 'depth': 3, 'entangler_map': [[1, 0]]}\n",
        "            #'feature_map': {'name': 'SecondOrderExpansion', 'depth': 3}\n",
        "        }\n",
        "training_dataset={'A':train_x[train_y==0],\n",
        "                'B':train_x[train_y==1],\n",
        "                'C':train_x[train_y==2]}\n",
        "\n",
        "test_dataset={'A':test_x[test_y==0],\n",
        "                        'B':test_x[test_y==1],\n",
        "                        'C':test_x[test_y==2]}\n",
        "\n",
        "total_arr = np.concatenate((test_dataset['A'],test_dataset['B'],test_dataset['C']))\n",
        "alg_input = ClassificationInput(training_dataset, test_dataset, total_arr)"
      ],
      "execution_count": 0,
      "outputs": []
    },
    {
      "cell_type": "code",
      "metadata": {
        "id": "eq858Jbnf7HG",
        "colab_type": "code",
        "colab": {}
      },
      "source": [
        "result = run_algorithm(params, algo_input=alg_input, backend=backend)"
      ],
      "execution_count": 0,
      "outputs": []
    },
    {
      "cell_type": "markdown",
      "metadata": {
        "id": "Fgv5NcG5AUYH",
        "colab_type": "text"
      },
      "source": [
        "### Sonuçları yazdırıp nasıl bir çıktı aldığımızı görelim "
      ]
    },
    {
      "cell_type": "code",
      "metadata": {
        "id": "k9yK8Ed-n6-L",
        "colab_type": "code",
        "outputId": "43c86f63-641f-4afe-affa-4f48cdd3f092",
        "colab": {
          "base_uri": "https://localhost:8080/",
          "height": 595
        }
      },
      "source": [
        "result"
      ],
      "execution_count": 7,
      "outputs": [
        {
          "output_type": "execute_result",
          "data": {
            "text/plain": [
              "{'predicted_classes': ['A',\n",
              "  'A',\n",
              "  'A',\n",
              "  'A',\n",
              "  'A',\n",
              "  'A',\n",
              "  'A',\n",
              "  'A',\n",
              "  'A',\n",
              "  'A',\n",
              "  'A',\n",
              "  'A',\n",
              "  'B',\n",
              "  'B',\n",
              "  'B',\n",
              "  'B',\n",
              "  'B',\n",
              "  'C',\n",
              "  'C',\n",
              "  'B',\n",
              "  'A',\n",
              "  'B',\n",
              "  'C',\n",
              "  'B',\n",
              "  'B',\n",
              "  'B',\n",
              "  'B',\n",
              "  'C',\n",
              "  'A',\n",
              "  'C'],\n",
              " 'predicted_labels': array([0, 0, 0, 0, 0, 0, 0, 0, 0, 0, 0, 0, 1, 1, 1, 1, 1, 2, 2, 1, 0, 1,\n",
              "        2, 1, 1, 1, 1, 2, 0, 2]),\n",
              " 'test_success_ratio': 0.7,\n",
              " 'testing_accuracy': 0.7}"
            ]
          },
          "metadata": {
            "tags": []
          },
          "execution_count": 7
        }
      ]
    },
    {
      "cell_type": "code",
      "metadata": {
        "id": "d4xd6YmXDmDu",
        "colab_type": "code",
        "outputId": "6877e7a5-4daf-421f-a02c-2b80bb812b58",
        "colab": {
          "base_uri": "https://localhost:8080/",
          "height": 51
        }
      },
      "source": [
        "print(\"Tahmin edilen Sınıflar:   \", result[\"predicted_labels\"])\n",
        "print(\"Sınıfların gerçek değeri: \", test_y)"
      ],
      "execution_count": 9,
      "outputs": [
        {
          "output_type": "stream",
          "text": [
            "Tahmin edilen Sınıflar:    [0 0 0 0 0 0 0 0 0 0 0 0 1 1 1 1 1 2 2 1 0 1 2 1 1 1 1 2 0 2]\n",
            "Sınıfların gerçek değeri:  [0 0 1 1 2 2 2 0 2 2 1 0 0 0 2 2 1 2 0 0 1 0 1 0 0 1 1 1 0 0]\n"
          ],
          "name": "stdout"
        }
      ]
    },
    {
      "cell_type": "markdown",
      "metadata": {
        "id": "GwI3buTEm8WO",
        "colab_type": "text"
      },
      "source": [
        "Bizim elde ettiğimiz sonuçlar pek iç acıcı değil. Bu sonuçlarda teknik olarak tam anlamıyla bir QSVM çalıştırmamış olmamızın da etkisi var. Ama yukarıda verdiğimiz makaleyi inceleyerek daha kesin sonuçlar elde etmenin mümkün olduğunu görebilirsiniz. \n",
        "\n",
        "İlerleyen 10 yılda teknolojinin gelişmesi ve donanımsal engellerin de birer birer ortadan kalkmasıyla beraber kuantum bilgisayarlarında daha gelişmiş algoritmaları daha kesin sonuçlar alacak şekilde çalıştırmamız mümkün olacaktır. "
      ]
    }
  ]
}