{
  "nbformat": 4,
  "nbformat_minor": 0,
  "metadata": {
    "colab": {
      "name": "Q-SVM.ipynb",
      "provenance": [],
      "collapsed_sections": [],
      "include_colab_link": true
    },
    "kernelspec": {
      "name": "python3",
      "display_name": "Python 3"
    },
    "accelerator": "GPU"
  },
  "cells": [
    {
      "cell_type": "markdown",
      "metadata": {
        "id": "view-in-github",
        "colab_type": "text"
      },
      "source": [
        "<a href=\"https://colab.research.google.com/github/RegaipKURT/QuantumProgramming/blob/master/Q_SVM.ipynb\" target=\"_parent\"><img src=\"https://colab.research.google.com/assets/colab-badge.svg\" alt=\"Open In Colab\"/></a>"
      ]
    },
    {
      "cell_type": "code",
      "metadata": {
        "id": "tH9PRWrNfp9f",
        "colab_type": "code",
        "colab": {}
      },
      "source": [
        "!pip install qiskit"
      ],
      "execution_count": 0,
      "outputs": []
    },
    {
      "cell_type": "code",
      "metadata": {
        "id": "zDOKtI9DftKG",
        "colab_type": "code",
        "colab": {}
      },
      "source": [
        "import numpy as np\n",
        "from sklearn.datasets import load_iris\n",
        "from sklearn.model_selection import train_test_split\n",
        "import qiskit\n",
        "from qiskit import BasicAer, Aer\n",
        "from qiskit.aqua import QuantumInstance\n",
        "from qiskit.aqua.algorithms import QSVM\n",
        "from qiskit.aqua.components.multiclass_extensions import one_against_rest, all_pairs\n",
        "from qiskit.aqua.components.feature_maps import SecondOrderExpansion\n",
        "from qiskit.aqua.input import ClassificationInput\n",
        "from qiskit.aqua import run_algorithm\n",
        "backend = Aer.get_backend('qasm_simulator')\n",
        "iris = load_iris()"
      ],
      "execution_count": 0,
      "outputs": []
    },
    {
      "cell_type": "code",
      "metadata": {
        "id": "nzR47viyfyfG",
        "colab_type": "code",
        "outputId": "2d7f87a9-b6e2-4913-f97f-4b6a32e11769",
        "colab": {
          "base_uri": "https://localhost:8080/",
          "height": 51
        }
      },
      "source": [
        "X, Y = iris.data, iris.target\n",
        "print(X.shape)\n",
        "print(len(set(Y)))\n",
        "train_x, test_x, train_y, test_y = train_test_split(X, Y, test_size=0.2)\n",
        "num_features = 4\n",
        "training_size = 120\n",
        "test_size = 30\n",
        "feature_map = SecondOrderExpansion(feature_dimension=num_features, depth=3)"
      ],
      "execution_count": 0,
      "outputs": [
        {
          "output_type": "stream",
          "text": [
            "(150, 4)\n",
            "3\n"
          ],
          "name": "stdout"
        }
      ]
    },
    {
      "cell_type": "code",
      "metadata": {
        "id": "vTO2y-tnsA6S",
        "colab_type": "code",
        "outputId": "2878b9ec-a993-425d-f0cb-c8478490159b",
        "colab": {
          "base_uri": "https://localhost:8080/",
          "height": 54
        }
      },
      "source": [
        "print(Aer.backends())"
      ],
      "execution_count": 0,
      "outputs": [
        {
          "output_type": "stream",
          "text": [
            "[<QasmSimulator('qasm_simulator') from AerProvider()>, <StatevectorSimulator('statevector_simulator') from AerProvider()>, <UnitarySimulator('unitary_simulator') from AerProvider()>]\n"
          ],
          "name": "stdout"
        }
      ]
    },
    {
      "cell_type": "code",
      "metadata": {
        "id": "HWVx0_91f1B2",
        "colab_type": "code",
        "outputId": "4e163979-f5dc-4aa1-ac3f-feb9cb2e462a",
        "colab": {
          "base_uri": "https://localhost:8080/",
          "height": 51
        }
      },
      "source": [
        "X, Y = iris.data, iris.target\n",
        "print(X.shape)\n",
        "print(len(set(Y)))\n",
        "train_x, test_x, train_y, test_y = train_test_split(X, Y, test_size=0.2)\n",
        "feature_map = SecondOrderExpansion(feature_dimension=num_features, depth=2) "
      ],
      "execution_count": 0,
      "outputs": [
        {
          "output_type": "stream",
          "text": [
            "(150, 4)\n",
            "3\n"
          ],
          "name": "stdout"
        }
      ]
    },
    {
      "cell_type": "code",
      "metadata": {
        "id": "z1C_Np5hf4Fp",
        "colab_type": "code",
        "colab": {}
      },
      "source": [
        "params = {\n",
        "            'problem': {'name': 'classification', 'random_seed': 794},\n",
        "            'algorithm': {\n",
        "                'name': 'QSVM',\n",
        "            },\n",
        "            'backend': {'shots': 1024},\n",
        "            'multiclass_extension': {'name': 'OneAgainstRest'},\n",
        "            #'feature_map': {'name': 'SecondOrderExpansion', 'depth': 2, 'entangler_map': [[0, 1]]}\n",
        "            'feature_map': {'name': 'SecondOrderExpansion', 'depth': 2}\n",
        "     \n",
        "        }\n",
        "training_dataset={'A':train_x[train_y==0],\n",
        "                'B':train_x[train_y==1],\n",
        "                'C':train_x[train_y==2]}\n",
        "test_dataset={'A':test_x[test_y==0],\n",
        "                        'B':test_x[test_y==1],\n",
        "                        'C':test_x[test_y==2]}\n",
        "total_arr = np.concatenate((test_dataset['A'],test_dataset['B'],test_dataset['C']))\n",
        "alg_input = ClassificationInput(training_dataset, test_dataset, total_arr)"
      ],
      "execution_count": 0,
      "outputs": []
    },
    {
      "cell_type": "code",
      "metadata": {
        "id": "eq858Jbnf7HG",
        "colab_type": "code",
        "outputId": "736bff83-58c1-461e-9ab0-70d5816735cd",
        "colab": {
          "base_uri": "https://localhost:8080/",
          "height": 105
        }
      },
      "source": [
        "%time result = run_algorithm(params, algo_input=alg_input, backend=backend)\n"
      ],
      "execution_count": 0,
      "outputs": [
        {
          "output_type": "stream",
          "text": [
            "/usr/local/lib/python3.6/dist-packages/qiskit/aqua/qiskit_aqua.py:119: DeprecationWarning: Declarative API will be removed next Aqua release. Please construct classes and call appropriate methods.\n",
            "  warnings.warn(aqua_globals.CONFIG_DEPRECATION_MSG, DeprecationWarning)\n"
          ],
          "name": "stderr"
        },
        {
          "output_type": "stream",
          "text": [
            "CPU times: user 11min 11s, sys: 1.13 s, total: 11min 12s\n",
            "Wall time: 18min 25s\n"
          ],
          "name": "stdout"
        }
      ]
    },
    {
      "cell_type": "code",
      "metadata": {
        "id": "k9yK8Ed-n6-L",
        "colab_type": "code",
        "outputId": "07e95105-e074-4b07-db9d-ee900dcf6dff",
        "colab": {
          "base_uri": "https://localhost:8080/",
          "height": 595
        }
      },
      "source": [
        "result"
      ],
      "execution_count": 0,
      "outputs": [
        {
          "output_type": "execute_result",
          "data": {
            "text/plain": [
              "{'predicted_classes': ['A',\n",
              "  'A',\n",
              "  'A',\n",
              "  'A',\n",
              "  'A',\n",
              "  'A',\n",
              "  'A',\n",
              "  'A',\n",
              "  'A',\n",
              "  'A',\n",
              "  'A',\n",
              "  'B',\n",
              "  'B',\n",
              "  'B',\n",
              "  'A',\n",
              "  'A',\n",
              "  'B',\n",
              "  'B',\n",
              "  'B',\n",
              "  'A',\n",
              "  'B',\n",
              "  'B',\n",
              "  'C',\n",
              "  'C',\n",
              "  'C',\n",
              "  'C',\n",
              "  'C',\n",
              "  'C',\n",
              "  'C',\n",
              "  'C'],\n",
              " 'predicted_labels': array([0, 0, 0, 0, 0, 0, 0, 0, 0, 0, 0, 1, 1, 1, 0, 0, 1, 1, 1, 0, 1, 1,\n",
              "        2, 2, 2, 2, 2, 2, 2, 2]),\n",
              " 'test_success_ratio': 0.8666666666666667,\n",
              " 'testing_accuracy': 0.8666666666666667}"
            ]
          },
          "metadata": {
            "tags": []
          },
          "execution_count": 13
        }
      ]
    },
    {
      "cell_type": "code",
      "metadata": {
        "id": "RkPED8GUgB82",
        "colab_type": "code",
        "colab": {}
      },
      "source": [
        "q_instance = QuantumInstance(backend)\n",
        "qsvm = QSVM(feature_map=feature_map,\n",
        "            training_dataset={'A':train_x[train_y==0], \n",
        "                              'B':train_x[train_y==1],\n",
        "                              'C':train_x[train_y==2]},\n",
        "            test_dataset={'A':test_x[test_y==0],\n",
        "                          'B':test_x[test_y==1],\n",
        "                          'C':test_x[test_y==2]},\n",
        "            multiclass_extension=one_against_rest.OneAgainstRest(\"SVM\"))"
      ],
      "execution_count": 0,
      "outputs": []
    },
    {
      "cell_type": "code",
      "metadata": {
        "id": "GMftCOfDtNaa",
        "colab_type": "code",
        "colab": {}
      },
      "source": [
        "tahmin_test = training_dataset[\"A\"]"
      ],
      "execution_count": 0,
      "outputs": []
    },
    {
      "cell_type": "code",
      "metadata": {
        "id": "N0e45svjt90U",
        "colab_type": "code",
        "outputId": "3f8900f6-7fd2-4f68-afcb-f5be8d517f07",
        "colab": {
          "base_uri": "https://localhost:8080/",
          "height": 34
        }
      },
      "source": [
        "np.shape(training_dataset[\"A\"])"
      ],
      "execution_count": 0,
      "outputs": [
        {
          "output_type": "execute_result",
          "data": {
            "text/plain": [
              "(37, 4)"
            ]
          },
          "metadata": {
            "tags": []
          },
          "execution_count": 63
        }
      ]
    },
    {
      "cell_type": "code",
      "metadata": {
        "id": "1lYEqOpSueSk",
        "colab_type": "code",
        "outputId": "5d805597-4129-48e5-8d27-e06601158697",
        "colab": {
          "base_uri": "https://localhost:8080/",
          "height": 578
        }
      },
      "source": [
        "q_instance.backend_config"
      ],
      "execution_count": 0,
      "outputs": [
        {
          "output_type": "execute_result",
          "data": {
            "text/plain": [
              "{'basis_gates': ['u1',\n",
              "  'u2',\n",
              "  'u3',\n",
              "  'cx',\n",
              "  'cz',\n",
              "  'id',\n",
              "  'x',\n",
              "  'y',\n",
              "  'z',\n",
              "  'h',\n",
              "  's',\n",
              "  'sdg',\n",
              "  't',\n",
              "  'tdg',\n",
              "  'swap',\n",
              "  'ccx',\n",
              "  'unitary',\n",
              "  'initialize',\n",
              "  'cu1',\n",
              "  'cu2',\n",
              "  'cu3',\n",
              "  'cswap',\n",
              "  'mcx',\n",
              "  'mcy',\n",
              "  'mcz',\n",
              "  'mcu1',\n",
              "  'mcu2',\n",
              "  'mcu3',\n",
              "  'mcswap',\n",
              "  'multiplexer',\n",
              "  'kraus',\n",
              "  'roerror'],\n",
              " 'coupling_map': None}"
            ]
          },
          "metadata": {
            "tags": []
          },
          "execution_count": 82
        }
      ]
    },
    {
      "cell_type": "code",
      "metadata": {
        "id": "rDGDO07XxqXT",
        "colab_type": "code",
        "outputId": "58eb5ea3-5624-4079-c55e-1ec0f7fa88f8",
        "colab": {
          "base_uri": "https://localhost:8080/",
          "height": 34
        }
      },
      "source": [
        "q_instance.backend.name()"
      ],
      "execution_count": 0,
      "outputs": [
        {
          "output_type": "execute_result",
          "data": {
            "text/plain": [
              "'qasm_simulator'"
            ]
          },
          "metadata": {
            "tags": []
          },
          "execution_count": 95
        }
      ]
    },
    {
      "cell_type": "code",
      "metadata": {
        "id": "ANkrfP7CoeJh",
        "colab_type": "code",
        "outputId": "6586bf11-f35f-47c9-e70c-8527100a0a00",
        "colab": {
          "base_uri": "https://localhost:8080/",
          "height": 306
        }
      },
      "source": [
        "sonuc = qsvm.predict(data=tahmin_test, quantum_instance=q_instance)"
      ],
      "execution_count": 0,
      "outputs": [
        {
          "output_type": "error",
          "ename": "TypeError",
          "evalue": "ignored",
          "traceback": [
            "\u001b[0;31m---------------------------------------------------------------------------\u001b[0m",
            "\u001b[0;31mTypeError\u001b[0m                                 Traceback (most recent call last)",
            "\u001b[0;32m<ipython-input-97-1b4ae00fd218>\u001b[0m in \u001b[0;36m<module>\u001b[0;34m()\u001b[0m\n\u001b[0;32m----> 1\u001b[0;31m \u001b[0msonuc\u001b[0m \u001b[0;34m=\u001b[0m \u001b[0mqsvm\u001b[0m\u001b[0;34m.\u001b[0m\u001b[0mpredict\u001b[0m\u001b[0;34m(\u001b[0m\u001b[0mdata\u001b[0m\u001b[0;34m=\u001b[0m\u001b[0mtahmin_test\u001b[0m\u001b[0;34m,\u001b[0m \u001b[0mquantum_instance\u001b[0m\u001b[0;34m=\u001b[0m\u001b[0mq_instance\u001b[0m\u001b[0;34m)\u001b[0m\u001b[0;34m\u001b[0m\u001b[0;34m\u001b[0m\u001b[0m\n\u001b[0m",
            "\u001b[0;32m/usr/local/lib/python3.6/dist-packages/qiskit/aqua/algorithms/many_sample/qsvm/qsvm.py\u001b[0m in \u001b[0;36mpredict\u001b[0;34m(self, data, quantum_instance)\u001b[0m\n\u001b[1;32m    432\u001b[0m         \u001b[0;32mif\u001b[0m \u001b[0mself\u001b[0m\u001b[0;34m.\u001b[0m\u001b[0m_quantum_instance\u001b[0m \u001b[0;32mis\u001b[0m \u001b[0;32mNone\u001b[0m\u001b[0;34m:\u001b[0m\u001b[0;34m\u001b[0m\u001b[0;34m\u001b[0m\u001b[0m\n\u001b[1;32m    433\u001b[0m             \u001b[0;32mraise\u001b[0m \u001b[0mAquaError\u001b[0m\u001b[0;34m(\u001b[0m\u001b[0;34m\"Either setup quantum instance or provide it in the parameter.\"\u001b[0m\u001b[0;34m)\u001b[0m\u001b[0;34m\u001b[0m\u001b[0;34m\u001b[0m\u001b[0m\n\u001b[0;32m--> 434\u001b[0;31m         \u001b[0;32mreturn\u001b[0m \u001b[0mself\u001b[0m\u001b[0;34m.\u001b[0m\u001b[0minstance\u001b[0m\u001b[0;34m.\u001b[0m\u001b[0mpredict\u001b[0m\u001b[0;34m(\u001b[0m\u001b[0mdata\u001b[0m\u001b[0;34m)\u001b[0m\u001b[0;34m\u001b[0m\u001b[0;34m\u001b[0m\u001b[0m\n\u001b[0m\u001b[1;32m    435\u001b[0m \u001b[0;34m\u001b[0m\u001b[0m\n\u001b[1;32m    436\u001b[0m     \u001b[0;32mdef\u001b[0m \u001b[0m_run\u001b[0m\u001b[0;34m(\u001b[0m\u001b[0mself\u001b[0m\u001b[0;34m)\u001b[0m\u001b[0;34m:\u001b[0m\u001b[0;34m\u001b[0m\u001b[0;34m\u001b[0m\u001b[0m\n",
            "\u001b[0;32m/usr/local/lib/python3.6/dist-packages/qiskit/aqua/algorithms/many_sample/qsvm/_qsvm_multiclass.py\u001b[0m in \u001b[0;36mpredict\u001b[0;34m(self, data)\u001b[0m\n\u001b[1;32m     52\u001b[0m     \u001b[0;32mdef\u001b[0m \u001b[0mpredict\u001b[0m\u001b[0;34m(\u001b[0m\u001b[0mself\u001b[0m\u001b[0;34m,\u001b[0m \u001b[0mdata\u001b[0m\u001b[0;34m)\u001b[0m\u001b[0;34m:\u001b[0m\u001b[0;34m\u001b[0m\u001b[0;34m\u001b[0m\u001b[0m\n\u001b[1;32m     53\u001b[0m         \u001b[0;34m\"\"\" predict \"\"\"\u001b[0m\u001b[0;34m\u001b[0m\u001b[0;34m\u001b[0m\u001b[0m\n\u001b[0;32m---> 54\u001b[0;31m         \u001b[0mpredicted_labels\u001b[0m \u001b[0;34m=\u001b[0m \u001b[0mself\u001b[0m\u001b[0;34m.\u001b[0m\u001b[0mmulticlass_classifier\u001b[0m\u001b[0;34m.\u001b[0m\u001b[0mpredict\u001b[0m\u001b[0;34m(\u001b[0m\u001b[0mdata\u001b[0m\u001b[0;34m)\u001b[0m\u001b[0;34m\u001b[0m\u001b[0;34m\u001b[0m\u001b[0m\n\u001b[0m\u001b[1;32m     55\u001b[0m         \u001b[0mself\u001b[0m\u001b[0;34m.\u001b[0m\u001b[0m_ret\u001b[0m\u001b[0;34m[\u001b[0m\u001b[0;34m'predicted_labels'\u001b[0m\u001b[0;34m]\u001b[0m \u001b[0;34m=\u001b[0m \u001b[0mpredicted_labels\u001b[0m\u001b[0;34m\u001b[0m\u001b[0;34m\u001b[0m\u001b[0m\n\u001b[1;32m     56\u001b[0m         \u001b[0;32mreturn\u001b[0m \u001b[0mpredicted_labels\u001b[0m\u001b[0;34m\u001b[0m\u001b[0;34m\u001b[0m\u001b[0m\n",
            "\u001b[0;32m/usr/local/lib/python3.6/dist-packages/qiskit/aqua/components/multiclass_extensions/one_against_rest.py\u001b[0m in \u001b[0;36mpredict\u001b[0;34m(self, x)\u001b[0m\n\u001b[1;32m    107\u001b[0m         \u001b[0mmaxima\u001b[0m\u001b[0;34m.\u001b[0m\u001b[0mfill\u001b[0m\u001b[0;34m(\u001b[0m\u001b[0;34m-\u001b[0m\u001b[0mnp\u001b[0m\u001b[0;34m.\u001b[0m\u001b[0minf\u001b[0m\u001b[0;34m)\u001b[0m\u001b[0;34m\u001b[0m\u001b[0;34m\u001b[0m\u001b[0m\n\u001b[1;32m    108\u001b[0m         \u001b[0margmaxima\u001b[0m \u001b[0;34m=\u001b[0m \u001b[0mnp\u001b[0m\u001b[0;34m.\u001b[0m\u001b[0mzeros\u001b[0m\u001b[0;34m(\u001b[0m\u001b[0mn_samples\u001b[0m\u001b[0;34m,\u001b[0m \u001b[0mdtype\u001b[0m\u001b[0;34m=\u001b[0m\u001b[0mint\u001b[0m\u001b[0;34m)\u001b[0m\u001b[0;34m\u001b[0m\u001b[0;34m\u001b[0m\u001b[0m\n\u001b[0;32m--> 109\u001b[0;31m         \u001b[0;32mfor\u001b[0m \u001b[0mi\u001b[0m\u001b[0;34m,\u001b[0m \u001b[0me\u001b[0m \u001b[0;32min\u001b[0m \u001b[0menumerate\u001b[0m\u001b[0;34m(\u001b[0m\u001b[0mself\u001b[0m\u001b[0;34m.\u001b[0m\u001b[0mestimators\u001b[0m\u001b[0;34m)\u001b[0m\u001b[0;34m:\u001b[0m\u001b[0;34m\u001b[0m\u001b[0;34m\u001b[0m\u001b[0m\n\u001b[0m\u001b[1;32m    110\u001b[0m             \u001b[0mpred\u001b[0m \u001b[0;34m=\u001b[0m \u001b[0mnp\u001b[0m\u001b[0;34m.\u001b[0m\u001b[0mravel\u001b[0m\u001b[0;34m(\u001b[0m\u001b[0me\u001b[0m\u001b[0;34m.\u001b[0m\u001b[0mdecision_function\u001b[0m\u001b[0;34m(\u001b[0m\u001b[0mx\u001b[0m\u001b[0;34m)\u001b[0m\u001b[0;34m)\u001b[0m\u001b[0;34m\u001b[0m\u001b[0;34m\u001b[0m\u001b[0m\n\u001b[1;32m    111\u001b[0m             \u001b[0mnp\u001b[0m\u001b[0;34m.\u001b[0m\u001b[0mmaximum\u001b[0m\u001b[0;34m(\u001b[0m\u001b[0mmaxima\u001b[0m\u001b[0;34m,\u001b[0m \u001b[0mpred\u001b[0m\u001b[0;34m,\u001b[0m \u001b[0mout\u001b[0m\u001b[0;34m=\u001b[0m\u001b[0mmaxima\u001b[0m\u001b[0;34m)\u001b[0m\u001b[0;34m\u001b[0m\u001b[0;34m\u001b[0m\u001b[0m\n",
            "\u001b[0;31mTypeError\u001b[0m: 'NoneType' object is not iterable"
          ]
        }
      ]
    }
  ]
}